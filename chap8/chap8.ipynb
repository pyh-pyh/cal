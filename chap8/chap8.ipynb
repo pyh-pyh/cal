{
 "cells": [
  {
   "cell_type": "code",
   "execution_count": 1,
   "metadata": {},
   "outputs": [],
   "source": [
    "import math"
   ]
  },
  {
   "cell_type": "code",
   "execution_count": 78,
   "metadata": {},
   "outputs": [],
   "source": [
    "def ft1(t):\n",
    "    return ((math.pi * (t + 1) / 8)**2) * math.sin(math.pi * (t + 1) / 8)\n",
    "\n",
    "\n",
    "def ft2(t):\n",
    "    return 2 * (1.3 + 0.3 * t) / ((1.3 + 0.3 * t)**2 - 4)\n",
    "\n",
    "\n",
    "def f(x):\n",
    "    return math.exp(x)\n",
    "\n",
    "\n",
    "def f1(x):\n",
    "    return x**2 * math.exp(-x)\n",
    "\n",
    "\n",
    "def f2(x):\n",
    "    return 2 * x / (x**2 - 4)\n",
    "\n",
    "\n",
    "def g(h):\n",
    "    return (math.exp(1 + h) - math.exp(1 - h)) / (2 * h)\n",
    "\n",
    "\n",
    "def ynplus1(xn, yn, h):\n",
    "    return yn + h * (-2 * yn + 2 * (xn**2) + 2 * xn)\n",
    "\n",
    "\n",
    "def ynplus2(xn, yn, h):\n",
    "    return yn + h / 2 * ((-2 * yn + 2 * (xn)**2 + 2 * xn) +\n",
    "                         (-2 * (yn + h * (-2 * yn + 2 * (xn**2) + 2 * xn)) + 2 *\n",
    "                          (xn + h)**2 + 2 * (xn + h)))\n",
    "\n",
    "\n",
    "def y_hat(x):\n",
    "    return math.exp(-2 * x) + x**2\n",
    "\n",
    "\n",
    "class Romburg:\n",
    "    def __init__(self, func, dim, down, up) -> None:\n",
    "        inter = 1\n",
    "        self.T = [[] for _ in range(dim)]\n",
    "        self.T[0] = [0 for _ in range(dim)]\n",
    "        for i in range(dim):\n",
    "            interlen = (up - down) / inter\n",
    "            bottom = down\n",
    "            for _ in range(inter):\n",
    "                self.T[0][i] += (func(bottom) + func(bottom + interlen))\n",
    "                bottom += interlen\n",
    "            self.T[0][i] /= (inter * 2)\n",
    "            inter *= 2\n",
    "        for i in range(dim - 1):\n",
    "            self.T[i + 1] = [0 for _ in range(dim - 1 - i)]\n",
    "            for j in range(dim - 1 - i):\n",
    "                self.T[i + 1][j] = (4**(i + 1) * self.T[i][j + 1] -\n",
    "                                    self.T[i][j]) / (4**(i + 1) - 1)"
   ]
  },
  {
   "cell_type": "code",
   "execution_count": 17,
   "metadata": {},
   "outputs": [
    {
     "data": {
      "text/plain": [
       "-2.435743454246804"
      ]
     },
     "execution_count": 17,
     "metadata": {},
     "output_type": "execute_result"
    }
   ],
   "source": [
    "ft2(-0.5773502692) + ft2(0.5773502692)\n"
   ]
  },
  {
   "cell_type": "code",
   "execution_count": 18,
   "metadata": {},
   "outputs": [
    {
     "data": {
      "text/plain": [
       "-2.4459967409595222"
      ]
     },
     "execution_count": 18,
     "metadata": {},
     "output_type": "execute_result"
    }
   ],
   "source": [
    "0.5555555556 * ft2(-0.7745966692) + 0.5555555556 * ft2(\n",
    "    0.7745966692) + 0.8888888889 * ft2(0)\n"
   ]
  },
  {
   "cell_type": "code",
   "execution_count": 14,
   "metadata": {},
   "outputs": [
    {
     "data": {
      "text/plain": [
       "3.9602660527907583"
      ]
     },
     "execution_count": 14,
     "metadata": {},
     "output_type": "execute_result"
    }
   ],
   "source": [
    "math.pi / 2 * math.exp(math.sqrt(2) / 2) + math.pi / 2 * math.exp(\n",
    "    -math.sqrt(2) / 2)\n"
   ]
  },
  {
   "cell_type": "code",
   "execution_count": 19,
   "metadata": {},
   "outputs": [
    {
     "name": "stdout",
     "output_type": "stream",
     "text": [
      "1.9784526657400923\n",
      "3.130014292002718\n",
      "3.665678437976444\n",
      "3.9774626346619564\n"
     ]
    }
   ],
   "source": [
    "su = 0\n",
    "for i in [math.cos(x * math.pi / 8) for x in [1, 3, 5, 7]]:\n",
    "    su += math.pi / 4 * f(i)\n",
    "    print(su)"
   ]
  },
  {
   "cell_type": "code",
   "execution_count": 60,
   "metadata": {},
   "outputs": [],
   "source": [
    "ro = Romburg(f2, 3, 1, 1.6)\n"
   ]
  },
  {
   "cell_type": "code",
   "execution_count": 61,
   "metadata": {},
   "outputs": [
    {
     "data": {
      "text/plain": [
       "[[-1.4444444444444449, -1.2849927849927854, -1.2393306466196483],\n",
       " [-1.2318422318422322, -1.2241099338286026],\n",
       " [-1.2235944472943605]]"
      ]
     },
     "execution_count": 61,
     "metadata": {},
     "output_type": "execute_result"
    }
   ],
   "source": [
    "ro.T"
   ]
  },
  {
   "cell_type": "code",
   "execution_count": 71,
   "metadata": {},
   "outputs": [],
   "source": [
    "G13 = g(0.05)\n"
   ]
  },
  {
   "cell_type": "code",
   "execution_count": 70,
   "metadata": {},
   "outputs": [],
   "source": [
    "G20 = (4 * g(0.1) - g(0.2)) / 3\n"
   ]
  },
  {
   "cell_type": "code",
   "execution_count": 68,
   "metadata": {},
   "outputs": [],
   "source": [
    "G21 = (4 * g(0.05) - g(0.1)) / 3"
   ]
  },
  {
   "cell_type": "code",
   "execution_count": 72,
   "metadata": {},
   "outputs": [
    {
     "data": {
      "text/plain": [
       "2.718281828998784"
      ]
     },
     "execution_count": 72,
     "metadata": {},
     "output_type": "execute_result"
    }
   ],
   "source": [
    "(16 * G21 - G20) / 15\n"
   ]
  },
  {
   "cell_type": "code",
   "execution_count": 79,
   "metadata": {},
   "outputs": [
    {
     "name": "stdout",
     "output_type": "stream",
     "text": [
      "0.0 0.907625 1.0 0.09237499999999998\n",
      "0.05 0.829263125 0.9073374180359595 0.07807429303595947\n",
      "0.1 0.764058128125 0.8287307530779818 0.06467262495298187\n",
      "0.15000000000000002 0.711235105953125 0.7633182206817178 0.05208311472859284\n",
      "0.2 0.6700927708875781 0.7103200460356394 0.04022727514806124\n",
      "0.25 0.6399964576532582 0.6690306597126334 0.029034202059375236\n",
      "0.30000000000000004 0.6203717941761987 0.6388116360940264 0.01843984191782766\n",
      "0.35000000000000003 0.6106989737294598 0.6190853037914095 0.008386330061949665\n",
      "0.4 0.6105075712251611 0.6093289641172216 -0.0011786071079394889\n",
      "0.45 0.6193718519587708 0.6090696597405991 -0.010302192218171635\n",
      "0.5 0.6369065260226875 0.6178794411714423 -0.019027084851245157\n"
     ]
    }
   ],
   "source": [
    "y = 1\n",
    "for i in range(50):\n",
    "    y = ynplus2(i * 0.05, y, 0.05)\n",
    "    y_true = y_hat(i*0.05)\n",
    "    err = y_true - y\n",
    "    print(i*0.05,y,y_true,err)\n",
    "    if i * 0.05 >= 0.5:\n",
    "        break"
   ]
  },
  {
   "cell_type": "code",
   "execution_count": null,
   "metadata": {},
   "outputs": [],
   "source": []
  }
 ],
 "metadata": {
  "language_info": {
   "name": "python"
  },
  "orig_nbformat": 4
 },
 "nbformat": 4,
 "nbformat_minor": 2
}
