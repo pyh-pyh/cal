{
 "cells": [
  {
   "cell_type": "code",
   "execution_count": 2,
   "metadata": {},
   "outputs": [],
   "source": [
    "import numpy as np\n"
   ]
  },
  {
   "cell_type": "code",
   "execution_count": 3,
   "metadata": {},
   "outputs": [],
   "source": [
    "def F(x):\n",
    "    return x**3 - x - 1"
   ]
  },
  {
   "cell_type": "code",
   "execution_count": 4,
   "metadata": {},
   "outputs": [],
   "source": [
    "def F1(x1, x2):\n",
    "    return 0.7 * np.math.sin(x1) + 0.2 * np.math.cos(x2)\n",
    "\n",
    "\n",
    "def F2(x1, x2):\n",
    "    return 0.7 * np.math.cos(x1) - 0.2 * np.math.sin(x2)\n"
   ]
  },
  {
   "cell_type": "code",
   "execution_count": 5,
   "metadata": {},
   "outputs": [
    {
     "name": "stdout",
     "output_type": "stream",
     "text": [
      "0.5111143894010166 0.5184226856024203\n",
      "0.5161250317532668 0.511437823080518\n",
      "0.519867889503328 0.5109303192081167\n",
      "0.5221938337124175 0.5097215773327373\n",
      "0.5237240327852287 0.509122066630296\n"
     ]
    }
   ],
   "source": [
    "x1 = 0.5\n",
    "x2 = 0.5\n",
    "for i in range(5):\n",
    "    x1_t = F1(x1, x2)\n",
    "    x2_t = F2(x1, x2)\n",
    "    x1 = x1_t\n",
    "    x2 = x2_t\n",
    "    print(x1,x2)\n"
   ]
  },
  {
   "cell_type": "code",
   "execution_count": null,
   "metadata": {},
   "outputs": [],
   "source": []
  }
 ],
 "metadata": {
  "interpreter": {
   "hash": "7d264b519b56c9b9effa0b7f4c3b6e992bafbbb8cd9067c872658d44cc0f2e55"
  },
  "kernelspec": {
   "display_name": "Python 3.8.5 64-bit ('base': conda)",
   "language": "python",
   "name": "python3"
  },
  "language_info": {
   "codemirror_mode": {
    "name": "ipython",
    "version": 3
   },
   "file_extension": ".py",
   "mimetype": "text/x-python",
   "name": "python",
   "nbconvert_exporter": "python",
   "pygments_lexer": "ipython3",
   "version": "3.8.5"
  },
  "orig_nbformat": 4
 },
 "nbformat": 4,
 "nbformat_minor": 2
}
