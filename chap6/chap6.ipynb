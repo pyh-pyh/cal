{
 "cells": [
  {
   "cell_type": "code",
   "execution_count": 23,
   "metadata": {},
   "outputs": [],
   "source": [
    "import numpy as np\n"
   ]
  },
  {
   "cell_type": "code",
   "execution_count": 24,
   "metadata": {},
   "outputs": [],
   "source": [
    "def F(x):\n",
    "    return 3*x*np.math.exp(x) - 2*np.math.exp(x)"
   ]
  },
  {
   "cell_type": "code",
   "execution_count": 25,
   "metadata": {},
   "outputs": [
    {
     "name": "stdout",
     "output_type": "stream",
     "text": [
      "2.7182818284590455 3.0531617598219967 3.2862987857726393 3.5276091949721655\n"
     ]
    }
   ],
   "source": [
    "print(F(1),F(1.03),F(1.05),F(1.07))"
   ]
  },
  {
   "cell_type": "code",
   "execution_count": 26,
   "metadata": {},
   "outputs": [],
   "source": [
    "def L(x):\n",
    "    return 2.718282 * (x - 1.05) * (x - 1.07) / 0.0035 + 3.286299 * (x - 1) * (\n",
    "        x - 1.07) / (-0.001) + 3.527609 * (x - 1) * (x - 1.05) / 0.0014\n"
   ]
  },
  {
   "cell_type": "code",
   "execution_count": 27,
   "metadata": {},
   "outputs": [
    {
     "data": {
      "text/plain": [
       "3.053047971428576"
      ]
     },
     "execution_count": 27,
     "metadata": {},
     "output_type": "execute_result"
    }
   ],
   "source": [
    "L(1.03)"
   ]
  },
  {
   "cell_type": "code",
   "execution_count": 28,
   "metadata": {},
   "outputs": [
    {
     "name": "stdout",
     "output_type": "stream",
     "text": [
      "0.44392476499999994 0.44359243877028154 -0.00033232622971840486\n"
     ]
    }
   ],
   "source": [
    "x0, x1 = 0.8, 1.0\n",
    "f0, f1 = 0.22363362, 0.65809197\n",
    "fp0, fp1 = 2.1691753, 2.0466965\n",
    "\n",
    "\n",
    "def f(x):\n",
    "    return np.math.sin(np.math.exp(x) - 2)\n",
    "\n",
    "\n",
    "def alpha0(x):\n",
    "    return (1 + 2 * (x - x0) / (x1 - x0)) * ((x - x1) / (x0 - x1))**2\n",
    "\n",
    "\n",
    "def alpha1(x):\n",
    "    return (1 + 2 * (x - x1) / (x0 - x1)) * ((x - x0) / (x1 - x0))**2\n",
    "\n",
    "\n",
    "def beta0(x):\n",
    "    return (x - x0) * ((x - x1) / (x0 - x1))**2\n",
    "\n",
    "\n",
    "def beta1(x):\n",
    "    return (x - x1) * ((x - x0) / (x1 - x0))**2\n",
    "\n",
    "\n",
    "def H3(x):\n",
    "    return 0.22363362 + 2.1691753 * (x - 0.8) + 0.01558225 * (\n",
    "        x - 0.8)**2 - 3.2177925 * (x - 0.8)**2 * (x - 1)\n",
    "\n",
    "\n",
    "print(H3(0.9), f(0.9), f(0.9) - H3(0.9))\n"
   ]
  },
  {
   "cell_type": "code",
   "execution_count": 29,
   "metadata": {},
   "outputs": [
    {
     "data": {
      "text/plain": [
       "0.00036166824583333345"
      ]
     },
     "execution_count": 29,
     "metadata": {},
     "output_type": "execute_result"
    }
   ],
   "source": [
    "0.2**4/384*86.800379"
   ]
  },
  {
   "cell_type": "code",
   "execution_count": 30,
   "metadata": {},
   "outputs": [
    {
     "data": {
      "text/plain": [
       "0.015582250000001355"
      ]
     },
     "execution_count": 30,
     "metadata": {},
     "output_type": "execute_result"
    }
   ],
   "source": [
    "((f1-f0)/(x1-x0)-fp0)/(x1-x0)"
   ]
  },
  {
   "cell_type": "code",
   "execution_count": 31,
   "metadata": {},
   "outputs": [
    {
     "data": {
      "text/plain": [
       "-0.627976250000002"
      ]
     },
     "execution_count": 31,
     "metadata": {},
     "output_type": "execute_result"
    }
   ],
   "source": [
    "((f1-f0)/(x1-x0)-fp1)/(x0-x1)"
   ]
  },
  {
   "cell_type": "code",
   "execution_count": 32,
   "metadata": {},
   "outputs": [
    {
     "data": {
      "text/plain": [
       "-3.2177925000000007"
      ]
     },
     "execution_count": 32,
     "metadata": {},
     "output_type": "execute_result"
    }
   ],
   "source": [
    "(0.01558225+0.62797625)/(x0-x1)"
   ]
  },
  {
   "cell_type": "code",
   "execution_count": 33,
   "metadata": {},
   "outputs": [
    {
     "data": {
      "text/plain": [
       "-2.7"
      ]
     },
     "execution_count": 33,
     "metadata": {},
     "output_type": "execute_result"
    }
   ],
   "source": [
    "(-1.1+1/5)/(2)*6"
   ]
  },
  {
   "cell_type": "code",
   "execution_count": 37,
   "metadata": {},
   "outputs": [
    {
     "name": "stdout",
     "output_type": "stream",
     "text": [
      "[[-23.53135314]\n",
      " [  0.3960396 ]\n",
      " [  0.82970297]\n",
      " [ -9.11485149]]\n"
     ]
    }
   ],
   "source": [
    "A=np.array([[2,1,0,0],[3/13,2,10/13,0],[0,0.5,2,0.5],[0,0,1,2]])\n",
    "dddd=np.array([[-140/3],[-4],[-2.7],[-17.4]])\n",
    "print(np.dot(np.linalg.inv(A),dddd))"
   ]
  },
  {
   "cell_type": "code",
   "execution_count": 49,
   "metadata": {},
   "outputs": [],
   "source": [
    "M1=-1.6382979\n",
    "M2=-0.94042553\n"
   ]
  },
  {
   "cell_type": "code",
   "execution_count": 57,
   "metadata": {},
   "outputs": [
    {
     "data": {
      "text/plain": [
       "-0.27304965"
      ]
     },
     "execution_count": 57,
     "metadata": {},
     "output_type": "execute_result"
    }
   ],
   "source": [
    "M1/6"
   ]
  },
  {
   "cell_type": "code",
   "execution_count": 56,
   "metadata": {},
   "outputs": [
    {
     "data": {
      "text/plain": [
       "4.256737588333333"
      ]
     },
     "execution_count": 56,
     "metadata": {},
     "output_type": "execute_result"
    }
   ],
   "source": [
    "(4.1-M2/6)"
   ]
  },
  {
   "cell_type": "code",
   "execution_count": 35,
   "metadata": {},
   "outputs": [
    {
     "name": "stdout",
     "output_type": "stream",
     "text": [
      "[[-1.63829787]\n",
      " [-0.94042553]]\n"
     ]
    }
   ],
   "source": [
    "A=np.array([[2,10/13],[1/2,2]])\n",
    "dddd=np.array([[-4],[-2.7]])\n",
    "print(np.dot(np.linalg.inv(A),dddd))"
   ]
  },
  {
   "cell_type": "code",
   "execution_count": 36,
   "metadata": {},
   "outputs": [
    {
     "data": {
      "text/plain": [
       "-3.9999999938461537"
      ]
     },
     "execution_count": 36,
     "metadata": {},
     "output_type": "execute_result"
    }
   ],
   "source": [
    "2*-1.63829787+10/13*-0.94042553"
   ]
  },
  {
   "cell_type": "code",
   "execution_count": null,
   "metadata": {},
   "outputs": [],
   "source": []
  }
 ],
 "metadata": {
  "interpreter": {
   "hash": "7d264b519b56c9b9effa0b7f4c3b6e992bafbbb8cd9067c872658d44cc0f2e55"
  },
  "kernelspec": {
   "display_name": "Python 3.8.5 64-bit ('base': conda)",
   "language": "python",
   "name": "python3"
  },
  "language_info": {
   "codemirror_mode": {
    "name": "ipython",
    "version": 3
   },
   "file_extension": ".py",
   "mimetype": "text/x-python",
   "name": "python",
   "nbconvert_exporter": "python",
   "pygments_lexer": "ipython3",
   "version": "3.8.12"
  },
  "orig_nbformat": 4
 },
 "nbformat": 4,
 "nbformat_minor": 2
}
