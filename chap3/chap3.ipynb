{
 "cells": [
  {
   "cell_type": "markdown",
   "metadata": {},
   "source": [
    "# Import"
   ]
  },
  {
   "cell_type": "code",
   "execution_count": 9,
   "metadata": {},
   "outputs": [],
   "source": [
    "import numpy as np\n"
   ]
  },
  {
   "cell_type": "markdown",
   "metadata": {},
   "source": [
    "# Jacobi"
   ]
  },
  {
   "cell_type": "code",
   "execution_count": null,
   "metadata": {},
   "outputs": [],
   "source": [
    "B = np.array([[0, -2, 2], [-1, 0, -1], [-2, -2, 0]])\n",
    "f = np.array([-1, 2, 4]).T\n",
    "x = np.array([0, 0, 0]).T\n",
    "for i in range(5):\n",
    "    x = np.dot(B, x) + f\n",
    "    print(x)"
   ]
  },
  {
   "cell_type": "markdown",
   "metadata": {},
   "source": [
    "# Gauss S"
   ]
  },
  {
   "cell_type": "code",
   "execution_count": null,
   "metadata": {},
   "outputs": [],
   "source": [
    "x = [0, 0, 0, 0]\n",
    "for i in range(5):\n",
    "    x_temp = [0, 0, 0, 0]\n",
    "    for j in range(len(x)):\n",
    "        for k in range(len(x)):\n",
    "            x_temp[j] += B[j, k] * x[k]\n",
    "        x_temp[j] += f[j]\n",
    "        x[j] = x_temp[j]\n",
    "        x_temp = [0, 0, 0, 0]\n",
    "\n",
    "    print(x)\n"
   ]
  },
  {
   "cell_type": "code",
   "execution_count": null,
   "metadata": {},
   "outputs": [],
   "source": [
    "B = np.array([[0, 0.1, 0], [0.1, 0, 0.2], [0, 0.2, 0]])\n",
    "det = np.linalg.det(B)\n",
    "lam = np.linalg.eig(B)[0]\n",
    "rou = np.max(np.abs(lam))\n"
   ]
  },
  {
   "cell_type": "code",
   "execution_count": 18,
   "metadata": {},
   "outputs": [],
   "source": [
    "M = np.array([[2, 0, 0], [2, 2, 0], [-1, -1, 2]])\n",
    "N = np.array([[0, 1, -1], [0, 0, -2], [0, 0, 0]])\n",
    "B = np.dot(np.linalg.inv(M), N)\n"
   ]
  },
  {
   "cell_type": "markdown",
   "metadata": {},
   "source": [
    "# SOR"
   ]
  },
  {
   "cell_type": "code",
   "execution_count": null,
   "metadata": {},
   "outputs": [],
   "source": [
    "omg = 2 / (1 + np.math.sqrt(19 / 20))\n",
    "RLomgb = -np.math.log(omg - 1)\n",
    "D = np.array([[10, 0, 0], [0, 10, 0], [0, 0, 10]])\n",
    "L = np.array([[0, 0, 0], [1, 0, 0], [0, 2, 0]])\n",
    "U = np.array([[0, 1, 0], [0, 0, 2], [0, 0, 0]])\n",
    "x = np.array([0, 0, 0]).T\n",
    "b = np.array([9, 7, 6]).T\n",
    "for i in range(5):\n",
    "    x = np.dot(np.dot(np.linalg.inv((D-omg*L)),(1-omg)*D+omg*U),x) + omg*np.dot(np.linalg.inv((D-omg*L)),b)\n",
    "    print(x)"
   ]
  },
  {
   "cell_type": "markdown",
   "metadata": {},
   "source": [
    "# CG"
   ]
  },
  {
   "cell_type": "code",
   "execution_count": 10,
   "metadata": {},
   "outputs": [
    {
     "name": "stdout",
     "output_type": "stream",
     "text": [
      "[[        nan         nan]\n",
      " [        nan -0.14285714]]\n",
      "[[nan nan]\n",
      " [nan nan]]\n",
      "[[nan nan]\n",
      " [nan nan]]\n",
      "[[nan nan]\n",
      " [nan nan]]\n",
      "[[nan nan]\n",
      " [nan nan]]\n"
     ]
    },
    {
     "name": "stderr",
     "output_type": "stream",
     "text": [
      "<ipython-input-10-1225596d25e4>:12: RuntimeWarning: invalid value encountered in true_divide\n",
      "  alpha = np.dot(r.T, r) / np.dot(np.dot(A, p).T, p)\n"
     ]
    }
   ],
   "source": [
    "# Ax=b\n",
    "A = np.array([[6, 3], [3, 2]])\n",
    "b = np.array([0, -1]).T\n",
    "it = 5\n",
    "\n",
    "# Calculate\n",
    "dim = len(b)\n",
    "x = np.zeros((dim, 1))\n",
    "r = b - np.dot(A, x)\n",
    "p = r\n",
    "for k in range(it):\n",
    "    alpha = np.dot(r.T, r) / np.dot(np.dot(A, p).T, p)\n",
    "    x = x + alpha * p\n",
    "    r_form = r\n",
    "    r = r - alpha * np.dot(A, p)\n",
    "    beta = np.dot(r.T, r) / np.dot(r_form.T, r_form)\n",
    "    p = r + beta * p\n",
    "    print(x)\n"
   ]
  },
  {
   "cell_type": "code",
   "execution_count": null,
   "metadata": {},
   "outputs": [],
   "source": []
  }
 ],
 "metadata": {
  "interpreter": {
   "hash": "7d264b519b56c9b9effa0b7f4c3b6e992bafbbb8cd9067c872658d44cc0f2e55"
  },
  "kernelspec": {
   "display_name": "Python 3.8.5 64-bit ('base': conda)",
   "name": "python3"
  },
  "language_info": {
   "codemirror_mode": {
    "name": "ipython",
    "version": 3
   },
   "file_extension": ".py",
   "mimetype": "text/x-python",
   "name": "python",
   "nbconvert_exporter": "python",
   "pygments_lexer": "ipython3",
   "version": "3.8.5"
  },
  "orig_nbformat": 4
 },
 "nbformat": 4,
 "nbformat_minor": 2
}
